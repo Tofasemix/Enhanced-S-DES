{
 "cells": [
  {
   "cell_type": "code",
   "execution_count": 1,
   "metadata": {},
   "outputs": [
    {
     "name": "stdout",
     "output_type": "stream",
     "text": [
      "[2, 5, 6, 3, 1, 4, 0]\n",
      "0101001101\n"
     ]
    }
   ],
   "source": [
    "import random\n",
    "import numpy as np\n",
    "\n",
    "transp_key = \"emirube\"\n",
    "n_columns = len(transp_key)\n",
    "n_rows = 0\n",
    "\n",
    "IP_order = [1,5,2,0,3,7,4,6]\n",
    "\n",
    "random_list = random.sample(range(7), 7)\n",
    "print(random_list)\n",
    "\n",
    "key = [str(random.randint(0, 1)) for _ in range(10)]\n",
    "random_key = ''.join(key)\n",
    "print(random_key)\n",
    "\n",
    "def MR(arr, order):\n",
    "    # Initialize an empty string to hold the resulting text\n",
    "    result_string = \"\"\n",
    "    \n",
    "    # Iterate through the columns based on the provided order\n",
    "    for col in order:\n",
    "        # Extract the entire column and append the values row by row\n",
    "        for row in arr[:, col]:\n",
    "            result_string += row  # Concatenate each element\n",
    "    \n",
    "    return result_string  \n",
    "\n",
    "def matrixmaker(text):\n",
    "    # Initialize the matrix with empty strings\n",
    "    matrix = np.full((n_rows, n_columns), '', dtype='<U1')\n",
    "\n",
    "    # Fill the matrix row by row\n",
    "    for i in range(n_rows):\n",
    "        # Slice the text list to get the next row\n",
    "        start_idx = i * n_columns\n",
    "        end_idx = start_idx + n_columns\n",
    "        row = text[start_idx:end_idx]  # Get the characters for the current row\n",
    "        \n",
    "        # Assign the sliced row to the matrix\n",
    "        matrix[i, :len(row)] = list(row)  # Only fill as many columns as the row has characters\n",
    "    \n",
    "    return matrix\n",
    "\n",
    "def shift_rows(matrix):\n",
    "    n_rows, n_columns = matrix.shape\n",
    "    \n",
    "    # Create a new matrix to store the result\n",
    "    shifted_matrix = np.empty_like(matrix)\n",
    "    \n",
    "    for i in range(n_rows):\n",
    "        # Calculate the shift for the i-th row (shift by i positions)\n",
    "        shift = i % n_columns  # This ensures we don't shift more than the number of columns\n",
    "        shifted_matrix[i] = np.roll(matrix[i], -shift)  # Shift to the left by 'shift' positions\n",
    "    \n",
    "    # Post-processing to remove '' values and shift elements left\n",
    "    for i in range(n_rows):\n",
    "        non_empty_values = [val for val in shifted_matrix[i] if val != '']  # Filter non-empty values\n",
    "        shifted_matrix[i, :len(non_empty_values)] = non_empty_values  # Shift them left\n",
    "        shifted_matrix[i, len(non_empty_values):] = ''  # Fill the remaining positions with ''\n",
    "\n",
    "    return shifted_matrix\n",
    "\n",
    "def permute_8(binary_string):\n",
    "    # Perform the permutation according to the permutation table\n",
    "    return ''.join([binary_string[i] for i in IP_order])"
   ]
  },
  {
   "cell_type": "code",
   "execution_count": 2,
   "metadata": {},
   "outputs": [],
   "source": [
    "plaintext = input(\"Enter plaintext:\")\n",
    "plaintext = plaintext.replace(\" \", \"\")\n",
    "\n",
    "ptcode = [char for char in plaintext]"
   ]
  },
  {
   "cell_type": "code",
   "execution_count": 3,
   "metadata": {},
   "outputs": [
    {
     "name": "stdout",
     "output_type": "stream",
     "text": [
      "[['a' 'r' 'e' 'y' 'o' 'u' 'c']\n",
      " ['o' 'm' 'i' 'n' 'g' 't' 'o']\n",
      " ['t' 'h' 'e' 't' 'o' 'g' 'a']\n",
      " ['p' 'a' 'r' 't' 'y' '' '']]\n",
      "First round: eierutgcoaynttrmhaogoyaotp\n",
      "\n",
      "[['e' 'i' 'e' 'r' 'u' 't' 'g']\n",
      " ['c' 'o' 'a' 'y' 'n' 't' 't']\n",
      " ['r' 'm' 'h' 'a' 'o' 'g' 'o']\n",
      " ['y' 'a' 'o' 't' 'p' '' '']]\n",
      "Second round: eahottggtoryatiomaunopecry\n",
      "\n",
      "[['e' 'a' 'h' 'o' 't' 't' 'g']\n",
      " ['g' 't' 'o' 'r' 'y' 'a' 't']\n",
      " ['i' 'o' 'm' 'a' 'u' 'n' 'o']\n",
      " ['p' 'e' 'c' 'r' 'y' '' '']]\n",
      "Third round: homctangtooraratoetyuyegip\n"
     ]
    }
   ],
   "source": [
    "# Calculate the number of rows needed based on the pre-shared number of columns and text\n",
    "n_rows = (len(ptcode) + n_columns - 1) // n_columns  # Ceiling division\n",
    "\n",
    "matrix = matrixmaker(ptcode)\n",
    "print(matrix)\n",
    "firstround = MR(matrix, random_list)\n",
    "print(\"First round:\", firstround)\n",
    "print()\n",
    "\n",
    "smatrix = matrixmaker(firstround)\n",
    "print(smatrix)\n",
    "secondround = MR(smatrix, random_list)\n",
    "print(\"Second round:\", secondround)\n",
    "print()\n",
    "\n",
    "tmatrix = matrixmaker(secondround)\n",
    "print(tmatrix)\n",
    "thirdround = MR(tmatrix, random_list)\n",
    "print(\"Third round:\", thirdround)"
   ]
  },
  {
   "cell_type": "code",
   "execution_count": 4,
   "metadata": {},
   "outputs": [
    {
     "name": "stdout",
     "output_type": "stream",
     "text": [
      "Transposition output:\n",
      "[['h' 'o' 'm' 'c' 't' 'a' 'n']\n",
      " ['g' 't' 'o' 'o' 'r' 'a' 'r']\n",
      " ['a' 't' 'o' 'e' 't' 'y' 'u']\n",
      " ['y' 'e' 'g' 'i' 'p' '' '']]\n",
      "\n",
      "Shifted output:\n",
      "[['h' 'o' 'm' 'c' 't' 'a' 'n']\n",
      " ['t' 'o' 'o' 'r' 'a' 'r' 'g']\n",
      " ['o' 'e' 't' 'y' 'u' 'a' 't']\n",
      " ['i' 'p' 'y' 'e' 'g' '' '']]\n"
     ]
    }
   ],
   "source": [
    "trans_output = matrixmaker(thirdround)\n",
    "print(\"Transposition output:\")\n",
    "print(trans_output)\n",
    "print()\n",
    "\n",
    "shifted_output = shift_rows(trans_output)\n",
    "print(\"Shifted output:\")\n",
    "print(shifted_output)"
   ]
  },
  {
   "cell_type": "code",
   "execution_count": 5,
   "metadata": {},
   "outputs": [
    {
     "name": "stdout",
     "output_type": "stream",
     "text": [
      "['h', 'o', 'm', 'c', 't', 'a', 'n', 't', 'o', 'o', 'r', 'a', 'r', 'g', 'o', 'e', 't', 'y', 'u', 'a', 't', 'i', 'p', 'y', 'e', 'g']\n"
     ]
    }
   ],
   "source": [
    "# Flatten the shifted matrix into a long list\n",
    "flattened_list = shifted_output.flatten().tolist()\n",
    "\n",
    "# Remove all '' values\n",
    "filtered_list = [val for val in flattened_list if val != '']\n",
    "\n",
    "# Print the flattened list\n",
    "print(filtered_list)"
   ]
  },
  {
   "cell_type": "code",
   "execution_count": 6,
   "metadata": {},
   "outputs": [
    {
     "name": "stdout",
     "output_type": "stream",
     "text": [
      "['01101000', '01101111', '01101101', '01100011', '01110100', '01100001', '01101110', '01110100', '01101111', '01101111', '01110010', '01100001', '01110010', '01100111', '01101111', '01100101', '01110100', '01111001', '01110101', '01100001', '01110100', '01101001', '01110000', '01111001', '01100101', '01100111']\n"
     ]
    }
   ],
   "source": [
    "binary_list = [format(ord(char), '08b') for char in filtered_list]\n",
    "print(binary_list)"
   ]
  },
  {
   "cell_type": "code",
   "execution_count": 7,
   "metadata": {},
   "outputs": [
    {
     "name": "stdout",
     "output_type": "stream",
     "text": [
      "10100010\n"
     ]
    }
   ],
   "source": [
    "p8 = permute_8(binary_list[0])\n",
    "print(p8)"
   ]
  }
 ],
 "metadata": {
  "kernelspec": {
   "display_name": ".venv",
   "language": "python",
   "name": "python3"
  },
  "language_info": {
   "codemirror_mode": {
    "name": "ipython",
    "version": 3
   },
   "file_extension": ".py",
   "mimetype": "text/x-python",
   "name": "python",
   "nbconvert_exporter": "python",
   "pygments_lexer": "ipython3",
   "version": "3.12.5"
  }
 },
 "nbformat": 4,
 "nbformat_minor": 2
}

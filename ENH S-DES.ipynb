{
 "cells": [
  {
   "cell_type": "markdown",
   "metadata": {},
   "source": [
    "### Import"
   ]
  },
  {
   "cell_type": "code",
   "execution_count": null,
   "metadata": {},
   "outputs": [],
   "source": [
    "# Import the NumPy library for matrix manipulation\n",
    "import numpy as np"
   ]
  },
  {
   "cell_type": "markdown",
   "metadata": {},
   "source": [
    "# Simplified DES"
   ]
  },
  {
   "cell_type": "code",
   "execution_count": null,
   "metadata": {},
   "outputs": [],
   "source": [
    "def permute(key, perm):\n",
    "    \"\"\"Applies a permutation to a key.\"\"\"\n",
    "    permuted_key = \"\"\n",
    "    for i in perm:\n",
    "        permuted_key += key[i - 1]\n",
    "    return permuted_key\n",
    "\n",
    "def left_shift(key, shifts):\n",
    "    \"\"\"Performs a circular left shift on a key.\"\"\"\n",
    "    return key[shifts:] + key[:shifts]\n",
    "\n",
    "def generate_subkeys(key):\n",
    "    \"\"\"Generates K1 and K2 subkeys from the 10-bit key.\"\"\"\n",
    "    key = permute(key, P10)\n",
    "    key = left_shift(key, 1)\n",
    "    k1 = permute(key, P8)\n",
    "    key = left_shift(key, 2)\n",
    "    k2 = permute(key, P8)\n",
    "    return k1, k2\n",
    "\n",
    "def f_k(data, subkey):\n",
    "    \"\"\"The f_k function in S-DES.\"\"\"\n",
    "    data = permute(data, E_P)\n",
    "    data = xor(data, subkey)\n",
    "    row0 = int(data[0] + data[3], 2)\n",
    "    col0 = int(data[1] + data[2], 2)\n",
    "    row1 = int(data[4] + data[7], 2)\n",
    "    col1 = int(data[5] + data[6], 2)\n",
    "    sbox_out = bin(S0[row0][col0])[2:].zfill(2) + bin(S1[row1][col1])[2:].zfill(2)\n",
    "    return permute(sbox_out, P4)\n",
    "\n",
    "def xor(a, b):\n",
    "    \"\"\"Performs bitwise XOR on two strings.\"\"\"\n",
    "    result = \"\"\n",
    "    for i in range(len(a)):\n",
    "        if a[i] == b[i]:\n",
    "            result += \"0\"\n",
    "        else:\n",
    "            result += \"1\"\n",
    "    return result\n",
    "\n",
    "def sdes_encrypt(plaintext, key):\n",
    "    \"\"\"Encrypts plaintext using S-DES and the given key.\"\"\"\n",
    "    k1, k2 = generate_subkeys(key)\n",
    "    data = permute(plaintext, IP)\n",
    "    data = xor(data[:4], f_k(data[4:], k1)) + data[4:]\n",
    "    data = data[4:] + data[:4]  # Swap\n",
    "    data = xor(data[:4], f_k(data[4:], k2)) + data[4:]\n",
    "    ciphertext = permute(data, IP_inv)\n",
    "    return ciphertext\n",
    "\n",
    "def sdes_decrypt(ciphertext, key):\n",
    "    \"\"\"Decrypts ciphertext using S-DES and the given key.\"\"\"\n",
    "    k1, k2 = generate_subkeys(key)\n",
    "    data = permute(ciphertext, IP)\n",
    "    data = xor(data[:4], f_k(data[4:], k2)) + data[4:]\n",
    "    data = data[4:] + data[:4]  # Swap\n",
    "    data = xor(data[:4], f_k(data[4:], k1)) + data[4:]\n",
    "    plaintext = permute(data, IP_inv)\n",
    "    return plaintext"
   ]
  },
  {
   "cell_type": "markdown",
   "metadata": {},
   "source": [
    "## Example of S-DES"
   ]
  },
  {
   "cell_type": "code",
   "execution_count": null,
   "metadata": {},
   "outputs": [],
   "source": [
    "# Example usage of sdes_encrypt and sdes_decrypt\n",
    "P10 = [3, 5, 2, 7, 4, 10, 1, 9, 8, 6]\n",
    "P8 = [6, 3, 7, 4, 8, 5, 10, 9]\n",
    "IP = [2, 6, 3, 1, 4, 8, 5, 7]\n",
    "IP_inv = [4, 1, 3, 5, 7, 2, 8, 6]\n",
    "E_P = [4, 1, 2, 3, 2, 3, 4, 1]\n",
    "P4 = [2, 4, 3, 1]\n",
    "S0 = [[1, 0, 3, 2],\n",
    "    [3, 2, 1, 0],\n",
    "    [0, 2, 1, 3],\n",
    "    [3, 1, 3, 2]]\n",
    "S1 = [[0, 1, 2, 3],\n",
    "    [2, 0, 1, 3],\n",
    "    [3, 0, 1, 0],\n",
    "    [2, 1, 0, 3]]\n",
    "\n",
    "\n",
    "plaintext = \"10111101\"\n",
    "key = \"1010000010\"\n",
    "ciphertext = sdes_encrypt(plaintext, key)\n",
    "decrypted_text = sdes_decrypt(ciphertext, key)\n",
    "\n",
    "print(\"Plaintext:\", plaintext)\n",
    "print(\"Key:\", key)\n",
    "print(\"Ciphertext:\", ciphertext)\n",
    "print(\"Decrypted text:\", decrypted_text)"
   ]
  },
  {
   "cell_type": "markdown",
   "metadata": {},
   "source": [
    "# Enhanced S-DES\n",
    "This section contains the necessary functions for the transformations and shifting prior to applying the S-DES algorithm.\n"
   ]
  },
  {
   "cell_type": "code",
   "execution_count": 12,
   "metadata": {},
   "outputs": [
    {
     "name": "stdout",
     "output_type": "stream",
     "text": [
      "[3, 4, 5, 6, 2, 0, 1]\n"
     ]
    }
   ],
   "source": [
    "# Define the transposition key and calculate the number of columns\n",
    "transp_key = \"emirube\"\n",
    "n_columns = len(transp_key)\n",
    "n_rows = 0 # Initially, the number of rows is unknown\n",
    "\n",
    "# Random list that defines the column order\n",
    "random_list = [3, 4, 5, 6, 2, 0, 1]\n",
    "print(random_list)\n",
    "\n",
    "# Function to reorder the columns of a matrix based on a given order\n",
    "def MR(arr, order):\n",
    "    # Initialize an empty string to hold the resulting text\n",
    "    result_string = \"\"\n",
    "    \n",
    "    # Iterate through the columns based on the provided order\n",
    "    for col in order:\n",
    "        # Extract the entire column and append the values row by row\n",
    "        for row in arr[:, col]:\n",
    "            result_string += row  # Concatenate each element\n",
    "    \n",
    "    return result_string \n",
    "\n",
    "# Function to revert the column reordering of a matrix\n",
    "def revert_MR(arr, order):\n",
    "    # Step 1: Convert the array to a string by concatenating all values row by row\n",
    "    text = ''.join(''.join(row) for row in arr)\n",
    "    \n",
    "    # Initialize a result array (same shape as the original)\n",
    "    n_rows, n_columns = arr.shape\n",
    "    result_matrix = np.full((n_rows, n_columns), '', dtype='<U1')  # Create empty matrix to store result\n",
    "    \n",
    "    # Step 2: Fill the result matrix column by column, based on the 'order'\n",
    "    idx = 0  # Index to keep track of characters in the string\n",
    "    for col in order:\n",
    "        for row in range(n_rows):\n",
    "            if arr[row, col] != '':  # Only fill in non-empty positions\n",
    "                if idx < len(text):  # Make sure we don't go out of bounds\n",
    "                    result_matrix[row, col] = text[idx]\n",
    "                    idx += 1\n",
    "    \n",
    "    # Step 3: Convert the result matrix back into a single string\n",
    "    result_string = ''.join(''.join(row) for row in result_matrix)\n",
    "    \n",
    "    return result_string\n",
    "\n",
    "# Function to create a matrix based on the provided text\n",
    "def matrixmaker(text):\n",
    "    # Initialize the matrix with empty strings\n",
    "    matrix = np.full((n_rows, n_columns), '', dtype='<U1')\n",
    "\n",
    "    # Fill the matrix row by row\n",
    "    for i in range(n_rows):\n",
    "        # Slice the text list to get the next row\n",
    "        start_idx = i * n_columns\n",
    "        end_idx = start_idx + n_columns\n",
    "        row = text[start_idx:end_idx]  # Get the characters for the current row\n",
    "        \n",
    "        # Assign the sliced row to the matrix\n",
    "        matrix[i, :len(row)] = list(row)  # Only fill as many columns as the row has characters\n",
    "    \n",
    "    return matrix\n",
    "\n",
    "def shift_rows_left(matrix):\n",
    "    n_rows, n_columns = matrix.shape\n",
    "    \n",
    "    # Create a new matrix to store the result\n",
    "    shifted_matrix = np.empty_like(matrix)\n",
    "    \n",
    "    # Perform the row shifting to the left (ignoring empty strings '')\n",
    "    for i in range(n_rows):\n",
    "        # Get the non-empty values in the row\n",
    "        non_empty_values = [val for val in matrix[i] if val != '']\n",
    "        \n",
    "        # Perform the circular shift on the non-empty values\n",
    "        shift = i % len(non_empty_values) if len(non_empty_values) > 0 else 0\n",
    "        \n",
    "        # Roll (shift) the non-empty values to the left\n",
    "        shifted_non_empty_values = np.roll(non_empty_values, -shift)\n",
    "        \n",
    "        # Fill the shifted matrix, preserving positions of empty ('') values\n",
    "        idx = 0  # Index for non-empty values\n",
    "        for j in range(n_columns):\n",
    "            if matrix[i, j] != '':\n",
    "                shifted_matrix[i, j] = shifted_non_empty_values[idx]\n",
    "                idx += 1\n",
    "            else:\n",
    "                shifted_matrix[i, j] = ''  # Leave the empty string as is\n",
    "    \n",
    "    return shifted_matrix\n",
    "\n",
    "def shift_rows_right(matrix):\n",
    "    n_rows, n_columns = matrix.shape\n",
    "    \n",
    "    # Create a new matrix to store the result\n",
    "    reverted_matrix = np.empty_like(matrix)\n",
    "    \n",
    "    # Perform the reverse row shifting (circular shift, ignoring '')\n",
    "    for i in range(n_rows):\n",
    "        # Get the non-empty values in the row\n",
    "        non_empty_values = [val for val in matrix[i] if val != '']\n",
    "        \n",
    "        # Perform the circular shift on the non-empty values\n",
    "        shift = i % len(non_empty_values) if len(non_empty_values) > 0 else 0\n",
    "        \n",
    "        # Roll (shift) the non-empty values to the right\n",
    "        shifted_non_empty_values = np.roll(non_empty_values, shift)\n",
    "        \n",
    "        # Fill the reverted matrix, preserving positions of empty ('') values\n",
    "        idx = 0  # Index for non-empty values\n",
    "        for j in range(n_columns):\n",
    "            if matrix[i, j] != '':\n",
    "                reverted_matrix[i, j] = shifted_non_empty_values[idx]\n",
    "                idx += 1\n",
    "            else:\n",
    "                reverted_matrix[i, j] = ''  # Leave the empty string as is\n",
    "    \n",
    "    return reverted_matrix"
   ]
  },
  {
   "cell_type": "markdown",
   "metadata": {},
   "source": [
    "## Example of Enhanced S-DES"
   ]
  },
  {
   "cell_type": "code",
   "execution_count": 15,
   "metadata": {},
   "outputs": [],
   "source": [
    "# plaintext = input(\"Enter plaintext:\")\n",
    "plaintext = \"are you coming to the toga party\"\n",
    "plaintext = plaintext.replace(\" \", \"\")\n",
    "\n",
    "ptcode = [char for char in plaintext]"
   ]
  },
  {
   "cell_type": "code",
   "execution_count": 16,
   "metadata": {},
   "outputs": [
    {
     "name": "stdout",
     "output_type": "stream",
     "text": [
      "[['a' 'r' 'e' 'y' 'o' 'u' 'c']\n",
      " ['o' 'm' 'i' 'n' 'g' 't' 'o']\n",
      " ['t' 'h' 'e' 't' 'o' 'g' 'a']\n",
      " ['p' 'a' 'r' 't' 'y' '' '']]\n",
      "\n",
      "First round: ynttogoyutgcoaeieraotprmha\n",
      "[['y' 'n' 't' 't' 'o' 'g' 'o']\n",
      " ['y' 'u' 't' 'g' 'c' 'o' 'a']\n",
      " ['e' 'i' 'e' 'r' 'a' 'o' 't']\n",
      " ['p' 'r' 'm' 'h' 'a' '' '']]\n",
      "\n",
      "Second round: tgrhocaagoooatttemyyepnuir\n",
      "Transposition output:\n",
      "[['t' 'g' 'r' 'h' 'o' 'c' 'a']\n",
      " ['a' 'g' 'o' 'o' 'o' 'a' 't']\n",
      " ['t' 't' 'e' 'm' 'y' 'y' 'e']\n",
      " ['p' 'n' 'u' 'i' 'r' '' '']]\n"
     ]
    }
   ],
   "source": [
    "# Calculate the number of rows needed based on the pre-shared number of columns and text\n",
    "n_rows = (len(ptcode) + n_columns - 1) // n_columns  # Ceiling division\n",
    "\n",
    "ogmatrix = matrixmaker(ptcode)\n",
    "print(ogmatrix)\n",
    "print()\n",
    "firstround = MR(ogmatrix, random_list)\n",
    "print(\"First round:\", firstround)\n",
    "\n",
    "fstmatrix = matrixmaker(firstround)\n",
    "print(fstmatrix)\n",
    "print()\n",
    "secondround = MR(fstmatrix, random_list)\n",
    "print(\"Second round:\", secondround)\n",
    "\n",
    "trans_output = matrixmaker(secondround)\n",
    "print(\"Transposition output:\")\n",
    "print(trans_output)"
   ]
  },
  {
   "cell_type": "code",
   "execution_count": 17,
   "metadata": {},
   "outputs": [
    {
     "name": "stdout",
     "output_type": "stream",
     "text": [
      "Shifted output:\n",
      "[['t' 'g' 'r' 'h' 'o' 'c' 'a']\n",
      " ['g' 'o' 'o' 'o' 'a' 't' 'a']\n",
      " ['e' 'm' 'y' 'y' 'e' 't' 't']\n",
      " ['i' 'r' 'p' 'n' 'u' '' '']]\n"
     ]
    }
   ],
   "source": [
    "shifted_output = shift_rows_left(trans_output)\n",
    "print(\"Shifted output:\")\n",
    "print(shifted_output)"
   ]
  },
  {
   "cell_type": "code",
   "execution_count": 18,
   "metadata": {},
   "outputs": [
    {
     "name": "stdout",
     "output_type": "stream",
     "text": [
      "Reverted output:\n",
      "[['t' 'g' 'r' 'h' 'o' 'c' 'a']\n",
      " ['a' 'g' 'o' 'o' 'o' 'a' 't']\n",
      " ['t' 't' 'e' 'm' 'y' 'y' 'e']\n",
      " ['p' 'n' 'u' 'i' 'r' '' '']]\n"
     ]
    }
   ],
   "source": [
    "reverted_output = shift_rows_right(shifted_output)\n",
    "print(\"Reverted output:\")\n",
    "print(reverted_output)"
   ]
  },
  {
   "cell_type": "code",
   "execution_count": 19,
   "metadata": {},
   "outputs": [
    {
     "name": "stdout",
     "output_type": "stream",
     "text": [
      "ynttogoyutgcoaeieraotprmha\n",
      "[['y' 'n' 't' 't' 'o' 'g' 'o']\n",
      " ['y' 'u' 't' 'g' 'c' 'o' 'a']\n",
      " ['e' 'i' 'e' 'r' 'a' 'o' 't']\n",
      " ['p' 'r' 'm' 'h' 'a' '' '']]\n",
      "\n",
      "areyoucomingtothetogaparty\n",
      "[['a' 'r' 'e' 'y' 'o' 'u' 'c']\n",
      " ['o' 'm' 'i' 'n' 'g' 't' 'o']\n",
      " ['t' 'h' 'e' 't' 'o' 'g' 'a']\n",
      " ['p' 'a' 'r' 't' 'y' '' '']]\n"
     ]
    }
   ],
   "source": [
    "rev_round = revert_MR(reverted_output, random_list)\n",
    "print(rev_round)\n",
    "rev1 = matrixmaker(rev_round)\n",
    "print(rev1)\n",
    "print()\n",
    "\n",
    "rev_round2 = revert_MR(rev1, random_list)\n",
    "print(rev_round2)\n",
    "rev2 = matrixmaker(rev_round2)\n",
    "print(rev2)"
   ]
  },
  {
   "cell_type": "markdown",
   "metadata": {},
   "source": [
    "Aquí empieza el cambio a binario para empezar el S-DES"
   ]
  },
  {
   "cell_type": "code",
   "execution_count": 20,
   "metadata": {},
   "outputs": [
    {
     "name": "stdout",
     "output_type": "stream",
     "text": [
      "['t', 'g', 'r', 'h', 'o', 'c', 'a', 'g', 'o', 'o', 'o', 'a', 't', 'a', 'e', 'm', 'y', 'y', 'e', 't', 't', 'i', 'r', 'p', 'n', 'u']\n"
     ]
    }
   ],
   "source": [
    "# Flatten the shifted matrix into a long list\n",
    "flattened_list = shifted_output.flatten().tolist()\n",
    "\n",
    "# Remove all '' values\n",
    "filtered_list = [val for val in flattened_list if val != '']\n",
    "\n",
    "# Print the flattened list\n",
    "print(filtered_list)"
   ]
  },
  {
   "cell_type": "code",
   "execution_count": 21,
   "metadata": {},
   "outputs": [
    {
     "name": "stdout",
     "output_type": "stream",
     "text": [
      "['01110100', '01100111', '01110010', '01101000', '01101111', '01100011', '01100001', '01100111', '01101111', '01101111', '01101111', '01100001', '01110100', '01100001', '01100101', '01101101', '01111001', '01111001', '01100101', '01110100', '01110100', '01101001', '01110010', '01110000', '01101110', '01110101']\n"
     ]
    }
   ],
   "source": [
    "binary_list = [format(ord(char), '08b') for char in filtered_list]\n",
    "print(binary_list)"
   ]
  }
 ],
 "metadata": {
  "kernelspec": {
   "display_name": ".venv",
   "language": "python",
   "name": "python3"
  },
  "language_info": {
   "codemirror_mode": {
    "name": "ipython",
    "version": 3
   },
   "file_extension": ".py",
   "mimetype": "text/x-python",
   "name": "python",
   "nbconvert_exporter": "python",
   "pygments_lexer": "ipython3",
   "version": "3.11.5"
  }
 },
 "nbformat": 4,
 "nbformat_minor": 2
}

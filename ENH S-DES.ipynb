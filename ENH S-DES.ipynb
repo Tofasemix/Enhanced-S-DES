{
 "cells": [
  {
   "cell_type": "code",
   "execution_count": 120,
   "metadata": {},
   "outputs": [
    {
     "name": "stdout",
     "output_type": "stream",
     "text": [
      "[4, 5, 0, 1, 6, 3, 2]\n",
      "0111111110\n"
     ]
    }
   ],
   "source": [
    "import random\n",
    "import numpy as np\n",
    "\n",
    "transp_key = \"emirube\"\n",
    "n_columns = len(transp_key)\n",
    "n_rows = 0\n",
    "\n",
    "IP_order = [1,5,2,0,3,7,4,6]\n",
    "\n",
    "random_list = random.sample(range(7), 7)\n",
    "print(random_list)\n",
    "\n",
    "key = [str(random.randint(0, 1)) for _ in range(10)]\n",
    "random_key = ''.join(key)\n",
    "print(random_key)\n",
    "\n",
    "def MR(arr, order):\n",
    "    # Initialize an empty string to hold the resulting text\n",
    "    result_string = \"\"\n",
    "    \n",
    "    # Iterate through the columns based on the provided order\n",
    "    for col in order:\n",
    "        # Extract the entire column and append the values row by row\n",
    "        for row in arr[:, col]:\n",
    "            result_string += row  # Concatenate each element\n",
    "    \n",
    "    return result_string  \n",
    "\n",
    "def matrixmaker(text):\n",
    "    # Initialize the matrix with empty strings\n",
    "    matrix = np.full((n_rows, n_columns), '', dtype='<U1')\n",
    "\n",
    "    # Fill the matrix row by row\n",
    "    for i in range(n_rows):\n",
    "        # Slice the text list to get the next row\n",
    "        start_idx = i * n_columns\n",
    "        end_idx = start_idx + n_columns\n",
    "        row = text[start_idx:end_idx]  # Get the characters for the current row\n",
    "        \n",
    "        # Assign the sliced row to the matrix\n",
    "        matrix[i, :len(row)] = list(row)  # Only fill as many columns as the row has characters\n",
    "    \n",
    "    return matrix\n",
    "\n",
    "def shift_rows(matrix):\n",
    "    n_rows, n_columns = matrix.shape\n",
    "    \n",
    "    # Create a new matrix to store the result\n",
    "    shifted_matrix = np.empty_like(matrix)\n",
    "    \n",
    "    for i in range(n_rows):\n",
    "        # Calculate the shift for the i-th row (shift by i positions)\n",
    "        shift = i % n_columns  # This ensures we don't shift more than the number of columns\n",
    "        shifted_matrix[i] = np.roll(matrix[i], -shift)  # Shift to the left by 'shift' positions\n",
    "    \n",
    "    # Post-processing to remove '' values and shift elements left\n",
    "    for i in range(n_rows):\n",
    "        non_empty_values = [val for val in shifted_matrix[i] if val != '']  # Filter non-empty values\n",
    "        shifted_matrix[i, :len(non_empty_values)] = non_empty_values  # Shift them left\n",
    "        shifted_matrix[i, len(non_empty_values):] = ''  # Fill the remaining positions with ''\n",
    "\n",
    "    return shifted_matrix\n",
    "\n",
    "def permute_8(binary_string):\n",
    "    # Perform the permutation according to the permutation table\n",
    "    return ''.join([binary_string[i] for i in IP_order])"
   ]
  },
  {
   "cell_type": "code",
   "execution_count": 121,
   "metadata": {},
   "outputs": [],
   "source": [
    "plaintext = input(\"Enter plaintext:\")\n",
    "plaintext = plaintext.replace(\" \", \"\")\n",
    "\n",
    "ptcode = [char for char in plaintext]"
   ]
  },
  {
   "cell_type": "code",
   "execution_count": 125,
   "metadata": {},
   "outputs": [
    {
     "name": "stdout",
     "output_type": "stream",
     "text": [
      "[['a' 'r' 'e' 'y' 'o' 'u' 'c']\n",
      " ['o' 'm' 'i' 'n' 'g' 't' 'o']\n",
      " ['t' 'h' 'e' 't' 'o' 'g' 'a']\n",
      " ['p' 'a' 'r' 't' 'y' '' '']]\n",
      "First round: ogoyutgaotprmhacoayntteier\n",
      "\n",
      "[['o' 'g' 'o' 'y' 'u' 't' 'g']\n",
      " ['a' 'o' 't' 'p' 'r' 'm' 'h']\n",
      " ['a' 'c' 'o' 'a' 'y' 'n' 't']\n",
      " ['t' 'e' 'i' 'e' 'r' '' '']]\n",
      "Second round: uryrtmnoaatgoceghtypaeotoi\n",
      "\n",
      "[['u' 'r' 'y' 'r' 't' 'm' 'n']\n",
      " ['o' 'a' 'a' 't' 'g' 'o' 'c']\n",
      " ['e' 'g' 'h' 't' 'y' 'p' 'a']\n",
      " ['e' 'o' 't' 'o' 'i' '' '']]\n",
      "Third round: tgyimopuoeeragoncarttoyaht\n"
     ]
    }
   ],
   "source": [
    "# Calculate the number of rows needed based on the pre-shared number of columns and text\n",
    "n_rows = (len(ptcode) + n_columns - 1) // n_columns  # Ceiling division\n",
    "\n",
    "matrix = matrixmaker(ptcode)\n",
    "print(matrix)\n",
    "firstround = MR(matrix, random_list)\n",
    "print(\"First round:\", firstround)\n",
    "print()\n",
    "\n",
    "smatrix = matrixmaker(firstround)\n",
    "print(smatrix)\n",
    "secondround = MR(smatrix, random_list)\n",
    "print(\"Second round:\", secondround)\n",
    "print()\n",
    "\n",
    "tmatrix = matrixmaker(secondround)\n",
    "print(tmatrix)\n",
    "thirdround = MR(tmatrix, random_list)\n",
    "print(\"Third round:\", thirdround)"
   ]
  },
  {
   "cell_type": "code",
   "execution_count": 128,
   "metadata": {},
   "outputs": [
    {
     "name": "stdout",
     "output_type": "stream",
     "text": [
      "Transposition output:\n",
      "[['t' 'g' 'y' 'i' 'm' 'o' 'p']\n",
      " ['u' 'o' 'e' 'e' 'r' 'a' 'g']\n",
      " ['o' 'n' 'c' 'a' 'r' 't' 't']\n",
      " ['o' 'y' 'a' 'h' 't' '' '']]\n",
      "\n",
      "Shifted output:\n",
      "[['t' 'g' 'y' 'i' 'm' 'o' 'p']\n",
      " ['o' 'e' 'e' 'r' 'a' 'g' 'u']\n",
      " ['c' 'a' 'r' 't' 't' 'o' 'n']\n",
      " ['h' 't' 'o' 'y' 'a' '' '']]\n"
     ]
    }
   ],
   "source": [
    "trans_output = matrixmaker(thirdround)\n",
    "print(\"Transposition output:\")\n",
    "print(trans_output)\n",
    "print()\n",
    "\n",
    "shifted_output = shift_rows(trans_output)\n",
    "print(\"Shifted output:\")\n",
    "print(shifted_output)"
   ]
  },
  {
   "cell_type": "code",
   "execution_count": 129,
   "metadata": {},
   "outputs": [
    {
     "name": "stdout",
     "output_type": "stream",
     "text": [
      "['t', 'g', 'y', 'i', 'm', 'o', 'p', 'o', 'e', 'e', 'r', 'a', 'g', 'u', 'c', 'a', 'r', 't', 't', 'o', 'n', 'h', 't', 'o', 'y', 'a']\n"
     ]
    }
   ],
   "source": [
    "# Flatten the shifted matrix into a long list\n",
    "flattened_list = shifted_output.flatten().tolist()\n",
    "\n",
    "# Remove all '' values\n",
    "filtered_list = [val for val in flattened_list if val != '']\n",
    "\n",
    "# Print the flattened list\n",
    "print(filtered_list)"
   ]
  },
  {
   "cell_type": "code",
   "execution_count": 130,
   "metadata": {},
   "outputs": [
    {
     "name": "stdout",
     "output_type": "stream",
     "text": [
      "['01110100', '01100111', '01111001', '01101001', '01101101', '01101111', '01110000', '01101111', '01100101', '01100101', '01110010', '01100001', '01100111', '01110101', '01100011', '01100001', '01110010', '01110100', '01110100', '01101111', '01101110', '01101000', '01110100', '01101111', '01111001', '01100001']\n"
     ]
    }
   ],
   "source": [
    "binary_list = [format(ord(char), '08b') for char in filtered_list]\n",
    "print(binary_list)"
   ]
  },
  {
   "cell_type": "code",
   "execution_count": 131,
   "metadata": {},
   "outputs": [
    {
     "name": "stdout",
     "output_type": "stream",
     "text": [
      "11101000\n"
     ]
    }
   ],
   "source": [
    "p8 = permute_8(binary_list[0])\n",
    "print(p8)"
   ]
  }
 ],
 "metadata": {
  "kernelspec": {
   "display_name": ".venv",
   "language": "python",
   "name": "python3"
  },
  "language_info": {
   "codemirror_mode": {
    "name": "ipython",
    "version": 3
   },
   "file_extension": ".py",
   "mimetype": "text/x-python",
   "name": "python",
   "nbconvert_exporter": "python",
   "pygments_lexer": "ipython3",
   "version": "3.12.5"
  }
 },
 "nbformat": 4,
 "nbformat_minor": 2
}
